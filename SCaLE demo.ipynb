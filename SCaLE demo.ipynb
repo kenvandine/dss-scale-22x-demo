{
 "cells": [
  {
   "cell_type": "raw",
   "id": "94e9eea1-09b2-493e-a8a2-8dd35d539a0a",
   "metadata": {},
   "source": [
    "# MLflow Demo Notebook\n",
    "This notebook demonstrates how to use MLflow for tracking experiments, managing artifacts, and versioning models.\n",
    " \n",
    "We'll use the [Wine Quality dataset](http://archive.ics.uci.edu/ml/datasets/Wine+Quality) as a simple example.#\n",
    "\n",
    "**Key highlights**:\n",
    "1. Parameter and metric logging\n",
    "2. Multiple model runs\n",
    "3. Model registration and versioning\n",
    "4. Artifacts and additional assets logging"
   ]
  },
  {
   "cell_type": "markdown",
   "id": "4e3557db-71ba-49d8-9f6c-701f6f126c64",
   "metadata": {},
   "source": [
    "## Step 1: Installation and Setup\n",
    "Make sure you have all the necessary libraries installed. Typically, you can install them via:\n",
    "\n",
    "```bash\n",
    "!pip install mlflow scikit-learn boto3 pandas numpy\n",
    "```"
   ]
  },
  {
   "cell_type": "raw",
   "id": "9255d162-0757-4225-b786-07185e2affc4",
   "metadata": {
    "tags": []
   },
   "source": [
    "!pip install mlflow scikit-learn boto3 pandas numpy"
   ]
  },
  {
   "cell_type": "code",
   "execution_count": null,
   "id": "b257a5a6-9f4f-4fa2-9a82-75b36c48d38c",
   "metadata": {
    "tags": []
   },
   "outputs": [],
   "source": [
    "import os\n",
    "import warnings\n",
    "import logging\n",
    "from urllib.parse import urlparse\n",
    "\n",
    "import boto3\n",
    "import mlflow\n",
    "import mlflow.sklearn\n",
    "import pandas as pd\n",
    "import numpy as np\n",
    "from sklearn.metrics import mean_squared_error, mean_absolute_error, r2_score\n",
    "from sklearn.model_selection import train_test_split\n",
    "from sklearn.linear_model import ElasticNet\n",
    "\n",
    "logging.basicConfig(level=logging.WARN)\n",
    "logger = logging.getLogger(__name__)\n",
    "\n",
    "warnings.filterwarnings(\"ignore\")\n",
    "np.random.seed(40)"
   ]
  },
  {
   "cell_type": "markdown",
   "id": "d4141efa-a49e-4a5f-b7a5-1f874d7aae9e",
   "metadata": {},
   "source": [
    "## Step 2: Define a helper function\n",
    "We'll define a helper function `eval_metrics` for evaluating our model predictions."
   ]
  },
  {
   "cell_type": "code",
   "execution_count": null,
   "id": "2c78073b-ad8b-47a9-b882-d8482d1ca216",
   "metadata": {
    "tags": []
   },
   "outputs": [],
   "source": [
    "def eval_metrics(actual, pred):\n",
    "    rmse = np.sqrt(mean_squared_error(actual, pred))\n",
    "    mae = mean_absolute_error(actual, pred)\n",
    "    r2 = r2_score(actual, pred)\n",
    "    return rmse, mae, r2"
   ]
  },
  {
   "cell_type": "markdown",
   "id": "670ae455-923c-482b-98ac-cdb44c221184",
   "metadata": {},
   "source": [
    "## Step 3: Download and Prepare the Data\n",
    "The wine-quality dataset is publicly available. We read it directly from the URL.\n"
   ]
  },
  {
   "cell_type": "code",
   "execution_count": null,
   "id": "5a26d9ca-329c-4ee9-9e90-388a2aa31d56",
   "metadata": {
    "tags": []
   },
   "outputs": [],
   "source": [
    "# Download the dataset\n",
    "csv_url = \"http://archive.ics.uci.edu/ml/machine-learning-databases/wine-quality/winequality-red.csv\"\n",
    "\n",
    "try:\n",
    "    data = pd.read_csv(csv_url, sep=\";\")\n",
    "except Exception as e:\n",
    "    logger.exception(\n",
    "        \"Unable to download training & test CSV. Check your internet connection. Error: %s\", e\n",
    "    )\n",
    "    raise e\n",
    "\n",
    "# Split into train/test sets\n",
    "train, test = train_test_split(data, test_size=0.25)\n",
    "\n",
    "train_x = train.drop([\"quality\"], axis=1)\n",
    "train_y = train[[\"quality\"]]\n",
    "test_x = test.drop([\"quality\"], axis=1)\n",
    "test_y = test[[\"quality\"]]\n",
    "\n",
    "print(f\"Train set size: {train.shape}\")\n",
    "print(f\"Test set size: {test.shape}\")"
   ]
  },
  {
   "cell_type": "markdown",
   "id": "32ef3477-6e1e-4672-bba9-d535e4a597f1",
   "metadata": {},
   "source": [
    "## Step 5: (Optional) Set an MLflow Experiment\n",
    "If you want to keep your runs organized under a named experiment, \n",
    "you can do so here. If the experiment does not exist, MLflow will create it.\n"
   ]
  },
  {
   "cell_type": "code",
   "execution_count": null,
   "id": "ada5da5e-1ac2-494b-bfdd-84a352e6c2ba",
   "metadata": {
    "tags": []
   },
   "outputs": [],
   "source": [
    "EXPERIMENT_NAME = \"WineQuality_ElasticNet\"\n",
    "mlflow.set_experiment(EXPERIMENT_NAME)\n",
    "print(f\"Using MLflow experiment: {EXPERIMENT_NAME}\")"
   ]
  },
  {
   "cell_type": "markdown",
   "id": "cde8a800-1621-4aa1-8eee-c5fd185bb8c3",
   "metadata": {},
   "source": [
    "## Step 6: Run Multiple Training Sessions\n",
    "We can loop through various hyperparameter values (e.g., `alpha` and `l1_ratio`) \n",
    "and track each run in MLflow. MLflow will automatically capture parameters, \n",
    "metrics, and artifacts."
   ]
  },
  {
   "cell_type": "code",
   "execution_count": null,
   "id": "55f3214f-5b71-42ca-8080-4892f6d3d600",
   "metadata": {
    "tags": []
   },
   "outputs": [],
   "source": [
    "from mlflow.models.signature import infer_signature\n",
    "\n",
    "# %%\n",
    "alpha_values = [0.1, 0.3, 0.5]\n",
    "l1_values = [0.1, 0.5, 0.9]\n",
    "\n",
    "example_input = train_x.iloc[:5]  # A small snippet of your training data as an example\n",
    "\n",
    "for alpha in alpha_values:\n",
    "    for l1_ratio in l1_values:\n",
    "        with mlflow.start_run():\n",
    "            # Train model\n",
    "            lr = ElasticNet(alpha=alpha, l1_ratio=l1_ratio, random_state=42)\n",
    "            lr.fit(train_x, train_y)\n",
    "            predictions = lr.predict(example_input)\n",
    "            signature = infer_signature(example_input, predictions)\n",
    "\n",
    "\n",
    "            # Predict\n",
    "            predicted_qualities = lr.predict(test_x)\n",
    "\n",
    "            # Evaluate\n",
    "            (rmse, mae, r2) = eval_metrics(test_y, predicted_qualities)\n",
    "\n",
    "            print(f\"ElasticNet model (alpha={alpha}, l1_ratio={l1_ratio}):\")\n",
    "            print(f\"  RMSE: {rmse}\")\n",
    "            print(f\"  MAE: {mae}\")\n",
    "            print(f\"  R2: {r2}\\n\")\n",
    "\n",
    "            # Log parameters and metrics\n",
    "            mlflow.log_param(\"alpha\", alpha)\n",
    "            mlflow.log_param(\"l1_ratio\", l1_ratio)\n",
    "            mlflow.log_metric(\"rmse\", rmse)\n",
    "            mlflow.log_metric(\"mae\", mae)\n",
    "            mlflow.log_metric(\"r2\", r2)\n",
    "\n",
    "            # Log model\n",
    "            tracking_url_type_store = urlparse(mlflow.get_tracking_uri()).scheme\n",
    "            if tracking_url_type_store != \"file\":\n",
    "                # Register the model if a model registry is available\n",
    "                mlflow.sklearn.log_model(\n",
    "                    lr, \"model\", \n",
    "                    registered_model_name=\"ElasticnetWineModel\",\n",
    "                    input_example=example_input,\n",
    "                    signature=signature\n",
    "                )\n",
    "            else:\n",
    "                # Otherwise, just log the model locally\n",
    "                mlflow.sklearn.log_model(lr, \"model\", input_example=example_input,\n",
    "                    signature=signature)\n",
    "            mlflow.end_run()\n"
   ]
  },
  {
   "cell_type": "markdown",
   "id": "452df4d6-fb98-4fea-bef4-bd421cfbceef",
   "metadata": {},
   "source": [
    "## Step 7: Model Versioning & Registry\n",
    "After running multiple trainings, if you are using the MLflow Model Registry \n",
    "(e.g., with a supported backend store), you can see different versions of \n",
    "`ElasticnetWineModel`.\n",
    "\n",
    "Use the MLflow UI to compare runs, check metrics, and manage model versions.\n",
    "\n",
    "You could programmatically transition a model version to staging or production with:\n"
   ]
  },
  {
   "cell_type": "code",
   "execution_count": null,
   "id": "cb087464-2e3d-4113-8eee-ad2d9682b6da",
   "metadata": {
    "tags": []
   },
   "outputs": [],
   "source": [
    "from mlflow.tracking import MlflowClient\n",
    "#\n",
    "client = MlflowClient()\n",
    "client.transition_model_version_stage(\n",
    "    name=\"ElasticnetWineModel\", version=1, stage=\"Staging\"\n",
    ")\n",
    "\n",
    "#\n",
    "# (This requires that you have the model registry set up, e.g. a database backend and \n",
    "# the MLflow Tracking server.)"
   ]
  },
  {
   "cell_type": "markdown",
   "id": "5f0fd2f3-97bb-4abe-9dcd-98c041c9db33",
   "metadata": {},
   "source": [
    "## Step 8: Additional Artifacts\n",
    "You can log additional artifacts such as plots, confusion matrices, or environment files.\n",
    "\n",
    "For instance:"
   ]
  },
  {
   "cell_type": "code",
   "execution_count": null,
   "id": "e709b11b-b3f6-44a0-9c3b-ca6f6460c932",
   "metadata": {
    "tags": []
   },
   "outputs": [],
   "source": [
    "import matplotlib.pyplot as plt\n",
    "fig, ax = plt.subplots()\n",
    "ax.scatter(test_y, predicted_qualities)\n",
    "ax.set_xlabel(\"Actual Quality\")\n",
    "ax.set_ylabel(\"Predicted Quality\")\n",
    "plt.savefig(\"scatter_plot.png\")\n",
    "\n",
    "\n",
    "# This command logs the artifact to MLFlow. You can find it under \"Experiments\" > \"<Name of the experiment>\".\n",
    "# It will be the last entry in the artifact list\n",
    "mlflow.log_artifact(\"scatter_plot.png\")"
   ]
  },
  {
   "cell_type": "markdown",
   "id": "f41070a5-aeb9-4513-921b-3b1ce93f25d0",
   "metadata": {},
   "source": [
    "## Summary\n",
    "In this notebook, we demonstrated:\n",
    "1. Setting up MLflow tracking in a notebook.\n",
    "2. Logging parameters, metrics, and models.\n",
    "3. Tracking multiple runs with different hyperparameters.\n",
    "4. (Optional) Model versioning using the MLflow Model Registry.\n",
    "#\n",
    "# Try exploring your runs, comparing them in the UI, and picking the best model for deployment."
   ]
  }
 ],
 "metadata": {
  "kernelspec": {
   "display_name": "Python 3 (ipykernel)",
   "language": "python",
   "name": "python3"
  },
  "language_info": {
   "codemirror_mode": {
    "name": "ipython",
    "version": 3
   },
   "file_extension": ".py",
   "mimetype": "text/x-python",
   "name": "python",
   "nbconvert_exporter": "python",
   "pygments_lexer": "ipython3",
   "version": "3.11.6"
  }
 },
 "nbformat": 4,
 "nbformat_minor": 5
}
